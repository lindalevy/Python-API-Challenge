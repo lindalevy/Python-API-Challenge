{
 "cells": [
  {
   "cell_type": "markdown",
   "metadata": {},
   "source": [
    "# WeatherPy\n",
    "----\n",
    "\n",
    "#### Note\n",
    "* Instructions have been included for each segment. You do not have to follow them exactly, but they are included to help you think through the steps."
   ]
  },
  {
   "cell_type": "code",
   "execution_count": 2,
   "metadata": {},
   "outputs": [
    {
     "name": "stdout",
     "output_type": "stream",
     "text": [
      "Requirement already satisfied: citipy in c:\\users\\lglev_09wmwwo\\anaconda3\\envs\\pythondata\\lib\\site-packages (0.0.5)\n",
      "Requirement already satisfied: kdtree>=0.12 in c:\\users\\lglev_09wmwwo\\anaconda3\\envs\\pythondata\\lib\\site-packages (from citipy) (0.16)\n",
      "Note: you may need to restart the kernel to use updated packages.\n"
     ]
    }
   ],
   "source": [
    "pip install citipy"
   ]
  },
  {
   "cell_type": "code",
   "execution_count": 33,
   "metadata": {
    "scrolled": true
   },
   "outputs": [],
   "source": [
    "import requests\n",
    "from matplotlib import pyplot as plt\n",
    "import pandas as pd\n",
    "from api_keys import weather_api_key\n",
    "import json\n",
    "import numpy as np\n",
    "import csv\n",
    "from datetime import datetime\n",
    "from citipy import citipy\n",
    "\n",
    "#needing a csv file to output results into\n",
    "output_file='../output_data/cities.csv'\n",
    "\n",
    "# Range of latitudes and longitudes\n",
    "lat_range = (-90, 90)\n",
    "lng_range = (-180, 180)"
   ]
  },
  {
   "cell_type": "markdown",
   "metadata": {},
   "source": [
    "## Generate Cities List"
   ]
  },
  {
   "cell_type": "code",
   "execution_count": 34,
   "metadata": {},
   "outputs": [
    {
     "data": {
      "text/plain": [
       "593"
      ]
     },
     "execution_count": 34,
     "metadata": {},
     "output_type": "execute_result"
    }
   ],
   "source": [
    "#lets try the citipy starter code\n",
    "# List for holding lat_lngs and cities\n",
    "lat_lngs = []\n",
    "cities_list = []\n",
    "\n",
    "# Create a set of 1,500 random lat and lng combinations\n",
    "lats = np.random.uniform(low=-90.000, high=90.000, size=1500)\n",
    "lngs = np.random.uniform(low=-180.000, high=180.000, size=1500)\n",
    "lat_lngs = zip(lats, lngs)\n",
    "\n",
    "# Identify nearest city for each lat, lng combination\n",
    "for lat_lng in lat_lngs:\n",
    "    city = citipy.nearest_city(lat_lng[0], lat_lng[1]).city_name\n",
    "    \n",
    "    # If the city is unique, then add it our cities list\n",
    "    if city not in cities_list:\n",
    "        cities_list.append(city)\n",
    "\n",
    "# Print the city count to confirm sufficient count\n",
    "len(cities_list)\n"
   ]
  },
  {
   "cell_type": "markdown",
   "metadata": {},
   "source": [
    "### Perform API Calls\n",
    "* Perform a weather check on each city using a series of successive API calls.\n",
    "* Include a print log of each city as it'sbeing processed (with the city number and city name).\n"
   ]
  },
  {
   "cell_type": "code",
   "execution_count": 35,
   "metadata": {
    "scrolled": true
   },
   "outputs": [
    {
     "name": "stdout",
     "output_type": "stream",
     "text": [
      "http://api.openweathermap.org/data/2.5/weather?appid=7eb04e06eacb8390017cc31d08e2137c&q=\n"
     ]
    }
   ],
   "source": [
    "# Specify the URL\n",
    "url = \"http://api.openweathermap.org/data/2.5/weather?\"\n",
    "query_url = f'{url}appid={weather_api_key}&q='\n",
    "print(query_url)"
   ]
  },
  {
   "cell_type": "code",
   "execution_count": 6,
   "metadata": {},
   "outputs": [
    {
     "name": "stdout",
     "output_type": "stream",
     "text": [
      " processing record for lebu, City ID of 3883457\n",
      " processing record for buriti bravo, City ID of 3404722\n",
      " processing record for mogadishu, City ID of 53654\n",
      " processing record for khatanga, City ID of 2022572\n",
      " processing record for torbay, City ID of 6167817\n",
      " processing record for bambous virieux, City ID of 1106677\n",
      " processing record for arraial do cabo, City ID of 3471451\n",
      " processing record for katobu, City ID of 1640972\n",
      " processing record for punta arenas, City ID of 3874787\n",
      " processing record for thompson, City ID of 6165406\n",
      " processing record for mataura, City ID of 6201424\n",
      " processing record for victoria, City ID of 1819729\n",
      " processing record for lagoa, City ID of 3372964\n",
      " processing record for cape town, City ID of 3369157\n",
      " processing record for kununurra, City ID of 2068110\n",
      " processing record for les cayes, City ID of 3728097\n",
      " processing record for rosarito, City ID of 3988392\n",
      " processing record for dabhoi, City ID of 1273766\n",
      " processing record for krasnoarmeysk, City ID of 542464\n",
      " processing record for portland, City ID of 5746545\n",
      " processing record for katsuura, City ID of 2112309\n",
      " processing record for bridgetown, City ID of 3374036\n",
      " processing record for bethel, City ID of 5282297\n",
      " processing record for naze, City ID of 1855540\n",
      " processing record for morant bay, City ID of 3489440\n",
      " processing record for guerrero negro, City ID of 4021858\n",
      " processing record for rikitea, City ID of 4030556\n",
      " processing record for ciudad bolivar, City ID of 3645532\n",
      " processing record for hobart, City ID of 2163355\n",
      " processing record for namibe, City ID of 3347019\n",
      " processing record for albany, City ID of 5106841\n",
      " processing stopped for belushya guba, no weather record\n",
      " processing record for vardo, City ID of 777019\n",
      " processing record for mattawa, City ID of 5802636\n",
      " processing record for east london, City ID of 1006984\n",
      " processing record for raudeberg, City ID of 3146487\n",
      " processing record for jamestown, City ID of 5122534\n",
      " processing record for norman wells, City ID of 6089245\n",
      " processing record for hermanus, City ID of 3366880\n",
      " processing record for barrow, City ID of 5880054\n",
      " processing record for vaini, City ID of 4032243\n",
      " processing record for lukovetskiy, City ID of 533418\n",
      " processing record for atuona, City ID of 4020109\n",
      " processing record for kalmunai, City ID of 1242110\n",
      " processing stopped for tumannyy, no weather record\n",
      " processing record for busselton, City ID of 2075265\n",
      " processing record for kapaa, City ID of 5848280\n",
      " processing record for tiksi, City ID of 2015306\n",
      " processing record for huarmey, City ID of 3939168\n",
      " processing record for upernavik, City ID of 3418910\n",
      " processing record for saint anthony, City ID of 5044290\n",
      " processing record for salamanca, City ID of 3111107\n",
      " processing record for ilesha, City ID of 2326168\n",
      " processing record for saskylakh, City ID of 2017155\n",
      " processing record for ribeira grande, City ID of 3372707\n",
      " processing record for whitianga, City ID of 2179103\n",
      " processing record for port elizabeth, City ID of 964420\n",
      " processing record for am timan, City ID of 245338\n",
      " processing record for vodnyy, City ID of 472976\n",
      " processing record for butaritari, City ID of 2110227\n",
      " processing stopped for illoqqortoormiut, no weather record\n",
      " processing record for leningradskiy, City ID of 2123814\n",
      " processing stopped for taolanaro, no weather record\n",
      " processing record for quelimane, City ID of 1028434\n",
      " processing record for lively, City ID of 6057842\n",
      " processing record for dikson, City ID of 1507390\n",
      " processing record for berlevag, City ID of 780687\n",
      " processing record for yumen, City ID of 1528998\n",
      " processing record for baherden, City ID of 162158\n",
      " processing stopped for barentsburg, no weather record\n",
      " processing record for uchiza, City ID of 3691094\n",
      " processing record for bluff, City ID of 2206939\n",
      " processing record for new norfolk, City ID of 2155415\n",
      " processing record for asau, City ID of 686090\n",
      " processing record for mahebourg, City ID of 934322\n",
      " processing record for beringovskiy, City ID of 2126710\n",
      " processing record for christchurch, City ID of 2192362\n",
      " processing record for bredasdorp, City ID of 1015776\n",
      " processing record for hilo, City ID of 5855927\n",
      " processing record for airai, City ID of 1651810\n",
      " processing record for ushuaia, City ID of 3833367\n",
      " processing record for kattivakkam, City ID of 1267433\n",
      " processing record for paamiut, City ID of 3421193\n",
      " processing record for kodiak, City ID of 5866583\n",
      " processing record for hamilton, City ID of 4513583\n",
      " processing record for avarua, City ID of 4035715\n",
      " processing record for amurzet, City ID of 2027740\n",
      " processing record for rio grande, City ID of 3451138\n",
      " processing record for poum, City ID of 2138555\n",
      " processing record for zhob, City ID of 1162105\n",
      " processing record for esperance, City ID of 2071860\n",
      " processing record for vengerovo, City ID of 1487615\n",
      " processing record for hithadhoo, City ID of 1282256\n",
      " processing record for fairbanks, City ID of 5861897\n",
      " processing record for broome, City ID of 5110365\n",
      " processing record for loiza, City ID of 4566022\n",
      " processing record for chanute, City ID of 4269392\n",
      " processing stopped for jahrom, no weather record\n",
      " processing record for clyde river, City ID of 5924351\n",
      " processing record for guapo, City ID of 3461943\n",
      " processing record for nikolskoye, City ID of 546105\n",
      " processing record for chokurdakh, City ID of 2126123\n",
      " processing record for omsukchan, City ID of 2122493\n",
      " processing record for ponta do sol, City ID of 2264557\n",
      " processing record for mar del plata, City ID of 3430863\n",
      " processing record for sao jose da coroa grande, City ID of 3388456\n",
      " processing record for kavieng, City ID of 2094342\n",
      " processing record for lata, City ID of 2738381\n",
      " processing record for soc trang, City ID of 1567788\n",
      " processing record for nkhotakota, City ID of 924705\n",
      " processing record for severo-kurilsk, City ID of 2121385\n",
      " processing record for mahibadhoo, City ID of 1337605\n",
      " processing record for port-gentil, City ID of 2396518\n",
      " processing record for mahajanga, City ID of 1062663\n",
      " processing record for faanui, City ID of 4034551\n",
      " processing record for bengkulu, City ID of 1649150\n",
      " processing record for finschhafen, City ID of 2097418\n",
      " processing record for bay roberts, City ID of 5895424\n",
      " processing record for victor harbor, City ID of 2059470\n",
      " processing record for havoysund, City ID of 779622\n",
      " processing record for coahuayana, City ID of 4013679\n",
      " processing record for florence, City ID of 3176959\n",
      " processing stopped for nizhneyansk, no weather record\n",
      " processing record for los llanos de aridane, City ID of 2514651\n",
      " processing record for saint-augustin, City ID of 6137462\n",
      " processing record for banda aceh, City ID of 1215502\n",
      " processing record for kokopo, City ID of 2093685\n",
      " processing record for pevek, City ID of 2122090\n",
      " processing record for kurchum, City ID of 1521762\n",
      " processing record for sibolga, City ID of 1213855\n",
      " processing record for hobyo, City ID of 57000\n",
      " processing record for sokoto, City ID of 2322911\n",
      " processing record for mount isa, City ID of 2065594\n",
      " processing record for kruisfontein, City ID of 986717\n",
      " processing record for anito, City ID of 1730622\n",
      " processing record for kiunga, City ID of 2093846\n",
      " processing record for mana, City ID of 3381041\n",
      " processing stopped for meyungs, no weather record\n",
      " processing record for saint-louis, City ID of 2246451\n",
      " processing record for lindas, City ID of 3147441\n",
      " processing record for vila velha, City ID of 3445026\n",
      " processing record for tuatapere, City ID of 2180815\n",
      " processing record for acarau, City ID of 3408368\n",
      " processing record for touros, City ID of 3386213\n",
      " processing stopped for sentyabrskiy, no weather record\n",
      " processing record for hailar, City ID of 2037078\n",
      " processing record for saeby, City ID of 2614172\n",
      " processing stopped for lolua, no weather record\n",
      " processing record for san francisco, City ID of 5391959\n",
      " processing record for jumla, City ID of 1283285\n",
      " processing record for ancud, City ID of 3899695\n",
      " processing stopped for burica, no weather record\n",
      " processing record for cabedelo, City ID of 3404558\n",
      " processing stopped for attawapiskat, no weather record\n",
      " processing record for araouane, City ID of 2460954\n",
      " processing record for mariinskiy posad, City ID of 529343\n",
      " processing record for saint-pierre, City ID of 935214\n"
     ]
    },
    {
     "name": "stdout",
     "output_type": "stream",
     "text": [
      " processing record for sitka, City ID of 5557293\n",
      " processing stopped for cockburn harbour, no weather record\n",
      " processing record for carnarvon, City ID of 2074865\n",
      " processing record for port lincoln, City ID of 2063036\n",
      " processing record for bereda, City ID of 3105522\n",
      " processing record for palmer, City ID of 4946620\n",
      " processing record for benguela, City ID of 3351663\n",
      " processing record for yellowknife, City ID of 6185377\n",
      " processing record for tasiilaq, City ID of 3424607\n",
      " processing record for fukue, City ID of 1863997\n",
      " processing record for nome, City ID of 5870133\n",
      " processing record for lamar, City ID of 4705086\n",
      " processing record for castro, City ID of 3466704\n",
      " processing record for georgetown, City ID of 1735106\n",
      " processing record for fort frances, City ID of 5955826\n",
      " processing record for mantua, City ID of 3174050\n",
      " processing record for tuktoyaktuk, City ID of 6170031\n",
      " processing record for merauke, City ID of 2082539\n",
      " processing record for pringsewu, City ID of 1630639\n",
      " processing record for longyearbyen, City ID of 2729907\n",
      " processing record for biysk, City ID of 1510018\n",
      " processing record for nelson, City ID of 2186280\n",
      " processing record for nantucket, City ID of 4944903\n",
      " processing record for zhigansk, City ID of 2012530\n",
      " processing stopped for mys shmidta, no weather record\n",
      " processing record for denpasar, City ID of 1645528\n",
      " processing record for tari, City ID of 2322495\n",
      " processing record for puerto rondon, City ID of 3671337\n",
      " processing stopped for jabiru, no weather record\n",
      " processing record for iquitos, City ID of 3696183\n",
      " processing record for namatanai, City ID of 2090021\n",
      " processing stopped for samusu, no weather record\n",
      " processing record for buraydah, City ID of 107304\n",
      " processing record for hagondange, City ID of 3014080\n",
      " processing record for careiro da varzea, City ID of 3402920\n",
      " processing record for nanortalik, City ID of 3421765\n",
      " processing record for yongan, City ID of 1806687\n",
      " processing record for outram, City ID of 1880252\n",
      " processing record for talnakh, City ID of 1490256\n",
      " processing record for camacupa, City ID of 3351014\n",
      " processing record for huinan, City ID of 2036685\n",
      " processing record for ahipara, City ID of 2194098\n",
      " processing record for flinders, City ID of 6255012\n",
      " processing record for puerto ayora, City ID of 3652764\n",
      " processing record for sterling, City ID of 4787534\n",
      " processing record for russell, City ID of 4047434\n",
      " processing record for coquimbo, City ID of 3893629\n",
      " processing record for sabang, City ID of 1214026\n",
      " processing record for zhanaozen, City ID of 607610\n",
      " processing record for mount gambier, City ID of 2156643\n",
      " processing record for san juan, City ID of 3837213\n",
      " processing record for kirakira, City ID of 2178753\n",
      " processing record for karakol, City ID of 1528121\n",
      " processing record for turayf, City ID of 101312\n",
      " processing record for gushikawa, City ID of 1863495\n",
      " processing record for dakar, City ID of 2253354\n",
      " processing record for lisburn, City ID of 2644411\n",
      " processing record for pisco, City ID of 3932145\n",
      " processing record for tekkali, City ID of 1254794\n",
      " processing record for santa marta, City ID of 3668605\n",
      " processing stopped for navapur, no weather record\n",
      " processing record for saldanha, City ID of 3361934\n",
      " processing record for tessalit, City ID of 2449893\n",
      " processing record for margate, City ID of 2643044\n",
      " processing record for dawlatabad, City ID of 1142226\n",
      " processing record for todos santos, City ID of 3981432\n",
      " processing record for udachnyy, City ID of 2014624\n",
      " processing record for gamba, City ID of 2400547\n",
      " processing record for qaanaaq, City ID of 3831208\n",
      " processing record for gambela, City ID of 337405\n",
      " processing record for imbituba, City ID of 3461370\n",
      " processing stopped for mrirt, no weather record\n",
      " processing record for bathsheba, City ID of 3374083\n",
      " processing record for ust-kulom, City ID of 478050\n",
      " processing record for ayan, City ID of 2027316\n",
      " processing record for arrifes, City ID of 3373329\n",
      " processing record for baculin, City ID of 1729469\n",
      " processing record for rio gallegos, City ID of 3838859\n",
      " processing record for rovaniemi, City ID of 638936\n",
      " processing record for freeport, City ID of 5117949\n",
      " processing record for pingliang, City ID of 1798760\n",
      " processing stopped for saleaula, no weather record\n",
      " processing record for sao joao da barra, City ID of 3448903\n",
      " processing record for praia da vitoria, City ID of 3372760\n",
      " processing record for aljezur, City ID of 2271968\n",
      " processing record for cayenne, City ID of 3382160\n",
      " processing record for culpeper, City ID of 4754972\n",
      " processing record for tura, City ID of 1254046\n",
      " processing record for kargasok, City ID of 1504382\n",
      " processing record for basco, City ID of 1726449\n",
      " processing record for sinnamary, City ID of 3380290\n",
      " processing record for waw, City ID of 363885\n",
      " processing record for chuy, City ID of 3443061\n",
      " processing record for chlorakas, City ID of 146490\n",
      " processing record for bilma, City ID of 2446796\n",
      " processing record for luanda, City ID of 2240449\n",
      " processing record for sao filipe, City ID of 3374210\n",
      " processing record for del rio, City ID of 5520076\n",
      " processing record for yulara, City ID of 6355222\n",
      " processing stopped for labutta, no weather record\n",
      " processing record for kuito, City ID of 3348078\n",
      " processing record for lorengau, City ID of 2092164\n",
      " processing record for thinadhoo, City ID of 1337610\n",
      " processing record for pokrovsk, City ID of 704422\n",
      " processing record for talakan, City ID of 2015686\n",
      " processing record for nelson bay, City ID of 2155562\n",
      " processing record for kahului, City ID of 5847411\n",
      " processing record for parsabad, City ID of 121380\n",
      " processing record for hargeysa, City ID of 57289\n",
      " processing record for saint-philippe, City ID of 935215\n",
      " processing stopped for tuggurt, no weather record\n",
      " processing stopped for kamenskoye, no weather record\n",
      " processing record for shenjiamen, City ID of 1795632\n",
      " processing record for borogontsy, City ID of 2026160\n",
      " processing record for alice springs, City ID of 2077895\n",
      " processing record for grevesmuhlen, City ID of 2917520\n",
      " processing record for miyang, City ID of 1800430\n",
      " processing record for dano, City ID of 2361586\n",
      " processing record for aden, City ID of 415189\n",
      " processing record for pangody, City ID of 1495626\n",
      " processing record for nizhniy tsasuchey, City ID of 2019118\n",
      " processing record for fortuna, City ID of 5563839\n",
      " processing record for berbera, City ID of 64435\n",
      " processing record for san lawrenz, City ID of 2562619\n",
      " processing record for roald, City ID of 3141667\n",
      " processing record for cap malheureux, City ID of 934649\n",
      " processing record for san angelo, City ID of 5530022\n",
      " processing record for sobolevo, City ID of 525426\n",
      " processing record for jijiga, City ID of 333795\n",
      " processing record for mirnyy, City ID of 2019951\n",
      " processing record for arman, City ID of 2127060\n",
      " processing record for chake chake, City ID of 160677\n",
      " processing record for awbari, City ID of 2219235\n",
      " processing record for acapulco, City ID of 3533462\n",
      " processing record for haines junction, City ID of 5969025\n",
      " processing record for manoel urbano, City ID of 3663495\n",
      " processing record for zunyi, City ID of 1783621\n",
      " processing record for benton, City ID of 4101244\n",
      " processing record for ketchikan, City ID of 5554428\n",
      " processing record for port macquarie, City ID of 2152659\n",
      " processing record for olimpia, City ID of 3455923\n",
      " processing record for nizhnevartovsk, City ID of 1497543\n",
      " processing stopped for bacuit, no weather record\n",
      " processing record for metro, City ID of 1635283\n",
      " processing record for millerovo, City ID of 526558\n",
      " processing record for anori, City ID of 3665315\n",
      " processing stopped for wulanhaote, no weather record\n",
      " processing record for chara, City ID of 2025630\n",
      " processing record for bunia, City ID of 217695\n",
      " processing record for provideniya, City ID of 4031574\n",
      " processing record for saint-leu, City ID of 6690297\n",
      " processing record for ukiah, City ID of 5404476\n",
      " processing record for paita, City ID of 3694112\n",
      " processing record for constitucion, City ID of 3893726\n",
      " processing stopped for othonoi, no weather record\n",
      " processing record for souillac, City ID of 933995\n",
      " processing record for lavrentiya, City ID of 4031637\n",
      " processing record for praya, City ID of 3374333\n"
     ]
    },
    {
     "name": "stdout",
     "output_type": "stream",
     "text": [
      " processing record for shimoda, City ID of 1852357\n",
      " processing record for balikpapan, City ID of 1650527\n",
      " processing record for codrington, City ID of 2171099\n",
      " processing stopped for bolungarvik, no weather record\n",
      " processing record for chicama, City ID of 3698359\n",
      " processing record for ilo, City ID of 3938415\n",
      " processing record for honiara, City ID of 2108502\n",
      " processing record for oriximina, City ID of 3393471\n",
      " processing record for tagusao, City ID of 1684245\n",
      " processing record for auki, City ID of 2109701\n",
      " processing record for nouadhibou, City ID of 2377457\n",
      " processing record for sept-iles, City ID of 6144312\n",
      " processing record for salalah, City ID of 286621\n",
      " processing record for vigrestad, City ID of 3131824\n",
      " processing record for salgado, City ID of 3450710\n",
      " processing record for port alfred, City ID of 964432\n",
      " processing stopped for vaitupu, no weather record\n",
      " processing record for port hedland, City ID of 2063042\n",
      " processing record for omboue, City ID of 2396853\n",
      " processing record for yeppoon, City ID of 2142316\n",
      " processing record for nuuk, City ID of 3421319\n",
      " processing record for kaitangata, City ID of 2208248\n",
      " processing record for korla, City ID of 1529376\n",
      " processing record for sorland, City ID of 3137469\n",
      " processing record for rengasdengklok, City ID of 1629710\n",
      " processing record for simbahan, City ID of 1695180\n",
      " processing stopped for jiddah, no weather record\n",
      " processing record for geraldton, City ID of 2070998\n",
      " processing record for izumo, City ID of 1861084\n",
      " processing record for havelock, City ID of 4470244\n",
      " processing record for tucumcari, City ID of 5495360\n",
      " processing record for tevaitoa, City ID of 4033375\n",
      " processing record for cowansville, City ID of 5931074\n",
      " processing record for disna, City ID of 629055\n",
      " processing record for palana, City ID of 2122262\n",
      " processing record for sal rei, City ID of 3374235\n",
      " processing record for cherskiy, City ID of 2126199\n",
      " processing stopped for phan rang, no weather record\n",
      " processing record for tsaratanana, City ID of 1055059\n",
      " processing record for san cristobal, City ID of 3628473\n",
      " processing record for saint george, City ID of 5546220\n",
      " processing record for matara, City ID of 1235846\n",
      " processing stopped for grand river south east, no weather record\n",
      " processing record for plyussa, City ID of 508743\n",
      " processing record for fuente de oro, City ID of 3682299\n",
      " processing record for luderitz, City ID of 3355672\n",
      " processing stopped for barroualie, no weather record\n",
      " processing record for fuengirola, City ID of 2517595\n",
      " processing record for zhuhai, City ID of 1790437\n",
      " processing record for vangaindrano, City ID of 1054329\n",
      " processing record for sapa, City ID of 1687343\n",
      " processing record for bislig, City ID of 1724769\n",
      " processing stopped for amderma, no weather record\n",
      " processing record for klyuchi, City ID of 1503153\n",
      " processing record for laon, City ID of 3007476\n",
      " processing stopped for inderborskiy, no weather record\n",
      " processing record for bled, City ID of 3203925\n",
      " processing record for rajshahi, City ID of 1185128\n",
      " processing record for srednekolymsk, City ID of 2121025\n",
      " processing record for lodja, City ID of 211647\n",
      " processing record for celestun, City ID of 3531368\n",
      " processing record for terrace, City ID of 6162949\n",
      " processing record for noumea, City ID of 2139521\n",
      " processing record for egvekinot, City ID of 4031742\n",
      " processing record for grenada, City ID of 2517117\n",
      " processing record for belaya gora, City ID of 2126785\n",
      " processing record for tantoyuca, City ID of 3516271\n",
      " processing record for laureles, City ID of 4705564\n",
      " processing record for pemba, City ID of 1028918\n",
      " processing stopped for barawe, no weather record\n",
      " processing record for san andres, City ID of 3670218\n",
      " processing record for walvis bay, City ID of 3359638\n",
      " processing record for puerto escondido, City ID of 3520994\n",
      " processing stopped for marcona, no weather record\n",
      " processing record for palmeiras de goias, City ID of 3455362\n",
      " processing record for oussouye, City ID of 2246901\n",
      " processing stopped for dalinghe, no weather record\n",
      " processing record for potiskum, City ID of 2324767\n",
      " processing record for chaozhou, City ID of 1815395\n",
      " processing record for dong hoi, City ID of 1582886\n",
      " processing record for ilhabela, City ID of 3461425\n",
      " processing record for husavik, City ID of 2629833\n",
      " processing record for champerico, City ID of 3598787\n",
      " processing record for dehui, City ID of 2037712\n",
      " processing record for farmington, City ID of 5467328\n",
      " processing record for bogorodskoye, City ID of 575521\n",
      " processing record for vanersborg, City ID of 2665171\n",
      " processing record for flin flon, City ID of 5954718\n",
      " processing record for wukari, City ID of 2318921\n",
      " processing record for bubaque, City ID of 2374583\n",
      " processing record for kahama, City ID of 158597\n",
      " processing record for teahupoo, City ID of 4033543\n",
      " processing record for port hardy, City ID of 6111862\n",
      " processing stopped for kegayli, no weather record\n",
      " processing record for altos, City ID of 3407797\n",
      " processing record for nhulunbuy, City ID of 2064735\n",
      " processing record for vostok, City ID of 2013279\n",
      " processing stopped for mutsamudu, no weather record\n",
      " processing record for ilulissat, City ID of 3423146\n",
      " processing record for vila franca do campo, City ID of 3372472\n",
      " processing record for bandarbeyla, City ID of 64814\n",
      " processing record for okato, City ID of 2185763\n",
      " processing record for vinh long, City ID of 1562693\n",
      " processing record for wanaka, City ID of 2184707\n",
      " processing record for forestville, City ID of 4355274\n",
      " processing record for maroantsetra, City ID of 1060283\n",
      " processing record for viransehir, City ID of 298033\n",
      " processing record for kieta, City ID of 2094027\n",
      " processing record for hasaki, City ID of 2112802\n",
      " processing record for kisangani, City ID of 212730\n",
      " processing record for pangai, City ID of 4032369\n",
      " processing record for klaksvik, City ID of 2618795\n",
      " processing stopped for nam tha, no weather record\n",
      " processing record for kolokani, City ID of 2454955\n",
      " processing record for khuzdar, City ID of 7082481\n",
      " processing record for cabo san lucas, City ID of 3985710\n",
      " processing record for aksarka, City ID of 1512019\n",
      " processing record for placerville, City ID of 5383559\n",
      " processing record for impfondo, City ID of 2259655\n",
      " processing record for pangnirtung, City ID of 6096551\n",
      " processing record for rocha, City ID of 3440777\n",
      " processing stopped for cam pha, no weather record\n",
      " processing record for gorodishche, City ID of 559654\n",
      " processing record for lucea, City ID of 3489657\n",
      " processing record for yuanping, City ID of 1786060\n",
      " processing record for pafos, City ID of 146214\n",
      " processing record for waipawa, City ID of 2206874\n",
      " processing record for coihaique, City ID of 3894426\n",
      " processing stopped for palabuhanratu, no weather record\n",
      " processing record for pires do rio, City ID of 3453503\n",
      " processing record for ontario, City ID of 5379439\n",
      " processing record for gazojak, City ID of 1514792\n",
      " processing record for oktyabrskoye, City ID of 515805\n",
      " processing record for chapadinha, City ID of 3402229\n",
      " processing stopped for imisli, no weather record\n",
      " processing record for lundamo, City ID of 3146831\n",
      " processing record for talara, City ID of 3691582\n",
      " processing stopped for ambodifototra, no weather record\n",
      " processing record for novyy urengoy, City ID of 1496511\n",
      " processing record for tairua, City ID of 2182010\n",
      " processing record for bloomsburg, City ID of 5180934\n",
      " processing record for iqaluit, City ID of 5983720\n",
      " processing record for aquiraz, City ID of 3407407\n",
      " processing record for hwange, City ID of 889942\n",
      " processing record for raipur, City ID of 1258980\n",
      " processing record for marulanda, City ID of 3675191\n",
      " processing record for amga, City ID of 2027786\n",
      " processing stopped for saryshagan, no weather record\n",
      " processing record for ust-nera, City ID of 2120048\n",
      " processing record for dwarka, City ID of 1272140\n",
      " processing record for sola, City ID of 2134814\n",
      " processing record for rawson, City ID of 3839307\n",
      " processing record for sawakin, City ID of 367544\n",
      " processing stopped for gangotri, no weather record\n",
      " processing stopped for viligili, no weather record\n",
      " processing record for tandalti, City ID of 366426\n",
      " processing record for inhambane, City ID of 1045114\n"
     ]
    },
    {
     "name": "stdout",
     "output_type": "stream",
     "text": [
      " processing record for buala, City ID of 2109528\n",
      " processing stopped for yunjinghong, no weather record\n",
      " processing record for springfield, City ID of 4409896\n",
      " processing record for south venice, City ID of 4173593\n",
      " processing record for mattru, City ID of 2409215\n",
      " processing record for ambulu, City ID of 1621313\n",
      " processing record for varhaug, City ID of 3132644\n",
      " processing record for karatuzskoye, City ID of 1504442\n",
      " processing record for twentynine palms, City ID of 5404198\n",
      " processing record for lima, City ID of 3936456\n",
      " processing record for zarechnyy, City ID of 464625\n",
      " processing record for sampit, City ID of 1628884\n",
      " processing record for chapais, City ID of 5919850\n",
      " processing record for mezen, City ID of 527321\n",
      " processing record for eureka, City ID of 5563397\n",
      " processing record for shitanjing, City ID of 1794971\n",
      " processing record for lompoc, City ID of 5367788\n",
      " processing record for mitsamiouli, City ID of 921786\n",
      " processing record for the valley, City ID of 3573374\n",
      " processing stopped for santa eulalia del rio, no weather record\n",
      " processing record for richards bay, City ID of 962367\n",
      " processing record for sengiley, City ID of 497094\n",
      " processing record for yatou, City ID of 1786855\n",
      " processing record for komsomolskiy, City ID of 1513491\n",
      " processing record for lakes entrance, City ID of 2160735\n",
      " processing record for lardos, City ID of 408689\n",
      " processing record for ozinki, City ID of 513329\n",
      " processing record for kota belud, City ID of 1736660\n",
      " processing stopped for tocantinopolis, no weather record\n",
      " processing stopped for lushunkou, no weather record\n",
      " processing record for serowe, City ID of 933088\n",
      " processing record for evensk, City ID of 2125693\n",
      " processing record for takoradi, City ID of 2294915\n",
      " processing record for blagodarnyy, City ID of 576172\n",
      " processing record for matagami, City ID of 6067747\n",
      " processing record for kazachka, City ID of 856845\n",
      " processing stopped for bur gabo, no weather record\n",
      " processing record for nouakchott, City ID of 2377450\n",
      " processing record for camacha, City ID of 2270385\n",
      " processing record for tongliao, City ID of 2034400\n",
      " processing record for sharan, City ID of 495770\n",
      " processing stopped for tsihombe, no weather record\n",
      " processing record for marihatag, City ID of 1700933\n",
      " processing record for le port, City ID of 935616\n",
      " processing record for mandera, City ID of 187896\n",
      " processing record for pauini, City ID of 3662927\n",
      " processing record for stromness, City ID of 2636638\n",
      " processing record for mayumba, City ID of 2399001\n",
      " processing record for bambanglipuro, City ID of 1650434\n",
      " processing record for sao cristovao, City ID of 3449310\n",
      " processing record for el tigre, City ID of 3641351\n",
      " processing record for durango, City ID of 4011741\n",
      " processing record for novo aripuana, City ID of 3663142\n",
      " processing stopped for yomitan, no weather record\n",
      " processing record for angoche, City ID of 1052944\n",
      " processing stopped for armacao dos buzios, no weather record\n",
      " processing record for toba, City ID of 1850345\n",
      " processing record for bauchi, City ID of 2347468\n",
      " processing record for cidreira, City ID of 3466165\n",
      " processing record for porto franco, City ID of 3391371\n",
      " processing record for terrace bay, City ID of 6162951\n",
      " processing record for constantine, City ID of 2501152\n",
      " processing record for saurimo, City ID of 145531\n",
      " processing stopped for tabiauea, no weather record\n",
      " processing record for bacum, City ID of 4017758\n",
      " processing record for deder, City ID of 339629\n",
      " processing record for boyolangu, City ID of 1648082\n",
      " processing record for khani, City ID of 610864\n",
      " processing record for laguna, City ID of 5364271\n",
      " processing record for sur, City ID of 286245\n",
      " processing record for sayansk, City ID of 2055166\n",
      " processing record for kavaratti, City ID of 1267390\n",
      " processing record for maniitsoq, City ID of 3421982\n",
      " processing record for scarborough, City ID of 2638419\n",
      " processing record for manggar, City ID of 1636426\n",
      " processing record for vao, City ID of 2137773\n",
      " processing record for dingle, City ID of 1714733\n",
      " processing record for asyut, City ID of 359783\n",
      " processing record for new castle, City ID of 5203127\n",
      " processing stopped for burkhala, no weather record\n",
      " processing record for dunedin, City ID of 2191562\n",
      " processing record for albanel, City ID of 5883074\n",
      " processing record for taldan, City ID of 2015646\n",
      " processing record for iskateley, City ID of 866062\n",
      " processing record for okhotsk, City ID of 2122605\n",
      " processing record for riviere-au-renard, City ID of 6943832\n",
      " processing record for kupang, City ID of 2057087\n",
      " processing record for dunbar, City ID of 4804563\n",
      " processing record for te anau, City ID of 2181625\n",
      " processing record for sosnovo, City ID of 490213\n",
      " processing record for carroll, City ID of 4350461\n",
      " processing record for balakovo, City ID of 579492\n",
      " processing record for telimele, City ID of 2414925\n",
      " processing record for najran, City ID of 103630\n",
      " processing record for meiganga, City ID of 2227402\n",
      " processing record for mocuba, City ID of 1024312\n",
      " processing record for viga, City ID of 1679993\n",
      " processing record for alofi, City ID of 4036284\n",
      " processing record for two rivers, City ID of 5276609\n",
      " processing record for ternate, City ID of 1624041\n",
      " processing stopped for ust-kamchatsk, no weather record\n",
      " processing record for taoudenni, City ID of 2450173\n",
      " processing record for tamandare, City ID of 3386931\n",
      " processing record for ust-tsilma, City ID of 477940\n",
      " processing record for gemona, City ID of 3176234\n",
      " processing record for riyadh, City ID of 108410\n",
      " processing record for santander, City ID of 3109718\n",
      " processing record for gat, City ID of 293842\n",
      " processing record for ust-uda, City ID of 2013865\n",
      " processing record for binzhou, City ID of 1816336\n",
      " processing record for mage, City ID of 3458142\n",
      " processing record for sao felix do xingu, City ID of 3388847\n",
      " processing record for itaituba, City ID of 3397967\n",
      " processing record for ocampo, City ID of 3994535\n",
      " processing record for santa vitoria, City ID of 3449749\n",
      " processing record for forio, City ID of 3176748\n",
      " processing record for leh, City ID of 1264976\n",
      " processing record for harrismith, City ID of 997751\n",
      " processing record for bagdarin, City ID of 2027244\n",
      " processing record for nhamunda, City ID of 3393929\n",
      " processing record for suntar, City ID of 2015913\n",
      " processing record for tromso, City ID of 6453316\n",
      " processing record for port-cartier, City ID of 6111696\n",
      " processing record for atambua, City ID of 1651103\n",
      " processing record for zarubino, City ID of 2012646\n",
      " processing record for dembi dolo, City ID of 339448\n",
      " processing record for hun, City ID of 2216645\n",
      " processing record for nanyamba, City ID of 877581\n",
      " processing record for bafoulabe, City ID of 2460755\n"
     ]
    }
   ],
   "source": [
    "# Loop through the list of cities .. Perform a weather check on each city using a series of successive API calls.\n",
    "#set up fields to capture information:\n",
    "city_name = []\n",
    "city_id=[]\n",
    "lat=[]\n",
    "lon=[]\n",
    "max_temp=[]\n",
    "humidity=[]\n",
    "cloudiness=[]\n",
    "wind_speed=[]\n",
    "country=[]\n",
    "w_date=[]\n",
    "\n",
    "for city in cities_list:\n",
    "    try:\n",
    "        response=requests.get(query_url + city).json()\n",
    "    \n",
    "# Get fields from JSON response\n",
    "\n",
    "        cityid = response['id']\n",
    "        city_id.append(cityid)\n",
    "        city_name.append(city)\n",
    "      \n",
    "        lat.append(response['coord']['lat'])\n",
    "        lon.append(response['coord']['lon'])\n",
    "        max_temp.append(response['main']['temp_max'])\n",
    "        humidity.append(response['main']['humidity'])\n",
    "        cloudiness.append(response['clouds']['all'])\n",
    "        wind_speed.append(response['wind']['speed'])\n",
    "        country.append(response['sys']['country']) \n",
    "        w_date.append(response['dt'])  \n",
    "     \n",
    "        print(f\" processing record for {city}, City ID of {cityid}\")\n",
    "    except:\n",
    "        print(f\" processing stopped for {city}, no weather record\")    \n",
    "\n",
    "           \n",
    "    "
   ]
  },
  {
   "cell_type": "markdown",
   "metadata": {},
   "source": [
    "### Convert Raw Data to DataFrame\n",
    "* Export the city data into a .csv.\n",
    "* Display the DataFrame"
   ]
  },
  {
   "cell_type": "code",
   "execution_count": 36,
   "metadata": {},
   "outputs": [
    {
     "data": {
      "text/plain": [
       "['01/07/2021', '01/07/2021', '01/07/2021', '01/07/2021', '01/07/2021']"
      ]
     },
     "execution_count": 36,
     "metadata": {},
     "output_type": "execute_result"
    }
   ],
   "source": [
    "# convert dates from UNIX\n",
    "converted_date=[]\n",
    "for time_date in w_date:\n",
    "    converted_date.append(datetime.fromtimestamp(int(time_date)).strftime('%m/%d/%Y'))\n",
    "converted_date[0:5]"
   ]
  },
  {
   "cell_type": "code",
   "execution_count": 37,
   "metadata": {},
   "outputs": [
    {
     "data": {
      "text/html": [
       "<div>\n",
       "<style scoped>\n",
       "    .dataframe tbody tr th:only-of-type {\n",
       "        vertical-align: middle;\n",
       "    }\n",
       "\n",
       "    .dataframe tbody tr th {\n",
       "        vertical-align: top;\n",
       "    }\n",
       "\n",
       "    .dataframe thead th {\n",
       "        text-align: right;\n",
       "    }\n",
       "</style>\n",
       "<table border=\"1\" class=\"dataframe\">\n",
       "  <thead>\n",
       "    <tr style=\"text-align: right;\">\n",
       "      <th></th>\n",
       "      <th>City Name</th>\n",
       "      <th>City ID</th>\n",
       "      <th>Lat</th>\n",
       "      <th>Lon</th>\n",
       "      <th>Max Temp</th>\n",
       "      <th>Humidity</th>\n",
       "      <th>Cloudiness</th>\n",
       "      <th>Wind speed</th>\n",
       "      <th>Country</th>\n",
       "      <th>Date</th>\n",
       "    </tr>\n",
       "  </thead>\n",
       "  <tbody>\n",
       "    <tr>\n",
       "      <th>0</th>\n",
       "      <td>lebu</td>\n",
       "      <td>3883457</td>\n",
       "      <td>-37.6167</td>\n",
       "      <td>-73.6500</td>\n",
       "      <td>287.72</td>\n",
       "      <td>92</td>\n",
       "      <td>33</td>\n",
       "      <td>5.92</td>\n",
       "      <td>CL</td>\n",
       "      <td>01/07/2021</td>\n",
       "    </tr>\n",
       "    <tr>\n",
       "      <th>1</th>\n",
       "      <td>buriti bravo</td>\n",
       "      <td>3404722</td>\n",
       "      <td>-5.8372</td>\n",
       "      <td>-43.8336</td>\n",
       "      <td>294.14</td>\n",
       "      <td>92</td>\n",
       "      <td>0</td>\n",
       "      <td>1.39</td>\n",
       "      <td>BR</td>\n",
       "      <td>01/07/2021</td>\n",
       "    </tr>\n",
       "    <tr>\n",
       "      <th>2</th>\n",
       "      <td>mogadishu</td>\n",
       "      <td>53654</td>\n",
       "      <td>2.0371</td>\n",
       "      <td>45.3438</td>\n",
       "      <td>298.15</td>\n",
       "      <td>65</td>\n",
       "      <td>90</td>\n",
       "      <td>5.70</td>\n",
       "      <td>SO</td>\n",
       "      <td>01/07/2021</td>\n",
       "    </tr>\n",
       "    <tr>\n",
       "      <th>3</th>\n",
       "      <td>khatanga</td>\n",
       "      <td>2022572</td>\n",
       "      <td>71.9667</td>\n",
       "      <td>102.5000</td>\n",
       "      <td>258.45</td>\n",
       "      <td>93</td>\n",
       "      <td>100</td>\n",
       "      <td>11.59</td>\n",
       "      <td>RU</td>\n",
       "      <td>01/07/2021</td>\n",
       "    </tr>\n",
       "    <tr>\n",
       "      <th>4</th>\n",
       "      <td>torbay</td>\n",
       "      <td>6167817</td>\n",
       "      <td>47.6666</td>\n",
       "      <td>-52.7314</td>\n",
       "      <td>280.15</td>\n",
       "      <td>100</td>\n",
       "      <td>90</td>\n",
       "      <td>4.60</td>\n",
       "      <td>CA</td>\n",
       "      <td>01/07/2021</td>\n",
       "    </tr>\n",
       "  </tbody>\n",
       "</table>\n",
       "</div>"
      ],
      "text/plain": [
       "      City Name  City ID      Lat       Lon  Max Temp  Humidity  Cloudiness  \\\n",
       "0          lebu  3883457 -37.6167  -73.6500    287.72        92          33   \n",
       "1  buriti bravo  3404722  -5.8372  -43.8336    294.14        92           0   \n",
       "2     mogadishu    53654   2.0371   45.3438    298.15        65          90   \n",
       "3      khatanga  2022572  71.9667  102.5000    258.45        93         100   \n",
       "4        torbay  6167817  47.6666  -52.7314    280.15       100          90   \n",
       "\n",
       "   Wind speed Country        Date  \n",
       "0        5.92      CL  01/07/2021  \n",
       "1        1.39      BR  01/07/2021  \n",
       "2        5.70      SO  01/07/2021  \n",
       "3       11.59      RU  01/07/2021  \n",
       "4        4.60      CA  01/07/2021  "
      ]
     },
     "execution_count": 37,
     "metadata": {},
     "output_type": "execute_result"
    }
   ],
   "source": [
    "# dictionary of lists  \n",
    "\n",
    "dict = {'City Name': city_name, 'City ID': city_id, 'Lat': lat, 'Lon': lon, 'Max Temp': max_temp, 'Humidity': humidity, 'Cloudiness': cloudiness, 'Wind speed': wind_speed, 'Country': country, 'Date':converted_date}  \n",
    "    \n",
    "weather_results = pd.DataFrame(dict) \n",
    "\n",
    "#output data to csv\n",
    "weather_results.to_csv(output_file)\n",
    "weather_results.head()\n"
   ]
  },
  {
   "cell_type": "markdown",
   "metadata": {},
   "source": [
    "## Inspect the data and remove the cities where the humidity > 100%.\n",
    "----\n",
    "Skip this step if there are no cities that have humidity > 100%. "
   ]
  },
  {
   "cell_type": "code",
   "execution_count": 38,
   "metadata": {},
   "outputs": [
    {
     "name": "stdout",
     "output_type": "stream",
     "text": [
      "Empty DataFrame\n",
      "Columns: [City Name, City ID, Lat, Lon, Max Temp, Humidity, Cloudiness, Wind speed, Country, Date]\n",
      "Index: []\n"
     ]
    }
   ],
   "source": [
    "# any cities with high humidity  ie: > 100%\n",
    "print(weather_results.loc[weather_results['Humidity']>100])\n"
   ]
  },
  {
   "cell_type": "code",
   "execution_count": 39,
   "metadata": {},
   "outputs": [],
   "source": [
    "#  Get the indices of cities that have humidity over 100%.\n"
   ]
  },
  {
   "cell_type": "code",
   "execution_count": 40,
   "metadata": {},
   "outputs": [],
   "source": [
    "# Make a new DataFrame equal to the city data to drop all humidity outliers by index.\n",
    "# Passing \"inplace=False\" will make a copy of the city_data DataFrame, which we call \"clean_city_data\".\n"
   ]
  },
  {
   "cell_type": "code",
   "execution_count": null,
   "metadata": {},
   "outputs": [],
   "source": [
    "\n"
   ]
  },
  {
   "cell_type": "markdown",
   "metadata": {},
   "source": [
    "## Plotting the Data\n",
    "* Use proper labeling of the plots using plot titles (including date of analysis) and axes labels.\n",
    "* Save the plotted figures as .pngs."
   ]
  },
  {
   "cell_type": "markdown",
   "metadata": {},
   "source": [
    "## Latitude vs. Temperature Plot"
   ]
  },
  {
   "cell_type": "code",
   "execution_count": 52,
   "metadata": {
    "scrolled": true
   },
   "outputs": [
    {
     "data": {
      "image/png": "[encoded data removed]",
      "text/plain": [
       "<Figure size 432x288 with 1 Axes>"
      ]
     },
     "metadata": {
      "needs_background": "light"
     },
     "output_type": "display_data"
    }
   ],
   "source": [
    "# Create a scatter plot which compares Lattitude to Temperature\n",
    "# Create a scatter plot which compares Lattitude to Temperature\n",
    "x_values = weather_results['Lat']\n",
    "y_values = weather_results['Max Temp']\n",
    "plt.scatter(x_values,y_values, alpha=0.50)\n",
    "plt.xlabel('Latitude')\n",
    "plt.ylabel('Maximum Temperature (f)')\n",
    "plt.title('Latitude vs Temperature')\n",
    "plt.ylim(min(y_values)-20,max(y_values)+10)\n",
    "plt.xlim(min(x_values)-20,max(x_values)+10)\n",
    "plt.show()"
   ]
  },
  {
   "cell_type": "markdown",
   "metadata": {},
   "source": [
    "## Latitude vs. Humidity Plot"
   ]
  },
  {
   "cell_type": "code",
   "execution_count": 69,
   "metadata": {},
   "outputs": [
    {
     "data": {
      "image/png": "[encoded data removed]",
      "text/plain": [
       "<Figure size 432x288 with 1 Axes>"
      ]
     },
     "metadata": {
      "needs_background": "light"
     },
     "output_type": "display_data"
    }
   ],
   "source": [
    "# Create a scatter plot which compares Lattitude to Humidity\n",
    "x_values = weather_results['Lat']\n",
    "y_values = weather_results['Humidity']\n",
    "plt.scatter(x_values,y_values, alpha=0.50)\n",
    "plt.title('Latitude vs Humidity')\n",
    "plt.xlabel('Latitude')\n",
    "plt.ylabel('Humidity (%)')\n",
    "plt.ylim(min(y_values)-20,max(y_values)+10)\n",
    "plt.xlim(min(x_values)-20,max(x_values)+10)\n",
    "plt.show()"
   ]
  },
  {
   "cell_type": "markdown",
   "metadata": {},
   "source": [
    "## Latitude vs. Cloudiness Plot"
   ]
  },
  {
   "cell_type": "code",
   "execution_count": 70,
   "metadata": {},
   "outputs": [
    {
     "data": {
      "image/png": "[encoded data removed]",
      "text/plain": [
       "<Figure size 432x288 with 1 Axes>"
      ]
     },
     "metadata": {
      "needs_background": "light"
     },
     "output_type": "display_data"
    }
   ],
   "source": [
    "# Create a scatter plot which compares Lattitude to Cloudiness\n",
    "x_values=weather_results['Lat']\n",
    "y_values = weather_results['Cloudiness']\n",
    "plt.scatter(x_values,y_values, alpha=0.50)\n",
    "plt.title('Latitude vs Cloudiness')\n",
    "plt.xlabel('Latitude')\n",
    "plt.ylabel('Cloudiness')\n",
    "plt.ylim(min(y_values)-5,max(y_values)+10)\n",
    "plt.xlim(min(x_values)-20,max(x_values)+10)\n",
    "plt.show()"
   ]
  },
  {
   "cell_type": "markdown",
   "metadata": {},
   "source": [
    "## Latitude vs. Wind Speed Plot"
   ]
  },
  {
   "cell_type": "code",
   "execution_count": 71,
   "metadata": {},
   "outputs": [
    {
     "data": {
      "image/png": "[encoded data removed]",
      "text/plain": [
       "<Figure size 432x288 with 1 Axes>"
      ]
     },
     "metadata": {
      "needs_background": "light"
     },
     "output_type": "display_data"
    }
   ],
   "source": [
    "# Create a scatter plot which compares Lattitude to Windspeed\n",
    "x_values=weather_results['Lat']\n",
    "y_values = weather_results['Wind speed']\n",
    "plt.scatter(x_values,y_values, alpha=0.50)\n",
    "plt.title('Latitude vs Windspeed')\n",
    "plt.xlabel('Latitude')\n",
    "plt.ylabel('Wind Speed (mph)')\n",
    "plt.ylim(min(y_values)-2,max(y_values)+2)\n",
    "plt.xlim(min(x_values)-20,max(x_values)+10)\n",
    "plt.show()"
   ]
  },
  {
   "cell_type": "markdown",
   "metadata": {},
   "source": [
    "## Linear Regression"
   ]
  },
  {
   "cell_type": "code",
   "execution_count": null,
   "metadata": {},
   "outputs": [],
   "source": []
  },
  {
   "cell_type": "markdown",
   "metadata": {},
   "source": [
    "####  Northern Hemisphere - Max Temp vs. Latitude Linear Regression"
   ]
  },
  {
   "cell_type": "code",
   "execution_count": null,
   "metadata": {},
   "outputs": [],
   "source": []
  },
  {
   "cell_type": "markdown",
   "metadata": {},
   "source": [
    "####  Southern Hemisphere - Max Temp vs. Latitude Linear Regression"
   ]
  },
  {
   "cell_type": "code",
   "execution_count": null,
   "metadata": {},
   "outputs": [],
   "source": []
  },
  {
   "cell_type": "markdown",
   "metadata": {},
   "source": [
    "####  Northern Hemisphere - Humidity (%) vs. Latitude Linear Regression"
   ]
  },
  {
   "cell_type": "code",
   "execution_count": null,
   "metadata": {},
   "outputs": [],
   "source": []
  },
  {
   "cell_type": "markdown",
   "metadata": {},
   "source": [
    "####  Southern Hemisphere - Humidity (%) vs. Latitude Linear Regression"
   ]
  },
  {
   "cell_type": "code",
   "execution_count": null,
   "metadata": {},
   "outputs": [],
   "source": []
  },
  {
   "cell_type": "markdown",
   "metadata": {},
   "source": [
    "####  Northern Hemisphere - Cloudiness (%) vs. Latitude Linear Regression"
   ]
  },
  {
   "cell_type": "code",
   "execution_count": null,
   "metadata": {},
   "outputs": [],
   "source": []
  },
  {
   "cell_type": "markdown",
   "metadata": {},
   "source": [
    "####  Southern Hemisphere - Cloudiness (%) vs. Latitude Linear Regression"
   ]
  },
  {
   "cell_type": "code",
   "execution_count": null,
   "metadata": {},
   "outputs": [],
   "source": []
  },
  {
   "cell_type": "markdown",
   "metadata": {},
   "source": [
    "####  Northern Hemisphere - Wind Speed (mph) vs. Latitude Linear Regression"
   ]
  },
  {
   "cell_type": "code",
   "execution_count": null,
   "metadata": {},
   "outputs": [],
   "source": []
  },
  {
   "cell_type": "markdown",
   "metadata": {},
   "source": [
    "####  Southern Hemisphere - Wind Speed (mph) vs. Latitude Linear Regression"
   ]
  },
  {
   "cell_type": "code",
   "execution_count": null,
   "metadata": {},
   "outputs": [],
   "source": []
  },
  {
   "cell_type": "code",
   "execution_count": null,
   "metadata": {},
   "outputs": [],
   "source": []
  }
 ],
 "metadata": {
  "anaconda-cloud": {},
  "kernel_info": {
   "name": "python3"
  },
  "kernelspec": {
   "display_name": "Python [conda env:PythonData] *",
   "language": "python",
   "name": "conda-env-PythonData-py"
  },
  "language_info": {
   "codemirror_mode": {
    "name": "ipython",
    "version": 3
   },
   "file_extension": ".py",
   "mimetype": "text/x-python",
   "name": "python",
   "nbconvert_exporter": "python",
   "pygments_lexer": "ipython3",
   "version": "3.6.10"
  },
  "latex_envs": {
   "LaTeX_envs_menu_present": true,
   "autoclose": false,
   "autocomplete": true,
   "bibliofile": "biblio.bib",
   "cite_by": "apalike",
   "current_citInitial": 1,
   "eqLabelWithNumbers": true,
   "eqNumInitial": 1,
   "hotkeys": {
    "equation": "Ctrl-E",
    "itemize": "Ctrl-I"
   },
   "labels_anchors": false,
   "latex_user_defs": false,
   "report_style_numbering": false,
   "user_envs_cfg": false
  },
  "nteract": {
   "version": "0.12.3"
  }
 },
 "nbformat": 4,
 "nbformat_minor": 2
}
