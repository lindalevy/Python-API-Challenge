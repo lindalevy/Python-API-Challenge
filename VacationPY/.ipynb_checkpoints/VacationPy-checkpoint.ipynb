{
 "cells": [
  {
   "cell_type": "markdown",
   "metadata": {},
   "source": [
    "# VacationPy\n",
    "----\n",
    "\n",
    "#### Note\n",
    "* Keep an eye on your API usage. Use https://developers.google.com/maps/reporting/gmp-reporting as reference for how to monitor your usage and billing.\n",
    "\n",
    "* Instructions have been included for each segment. You do not have to follow them exactly, but they are included to help you think through the steps."
   ]
  },
  {
   "cell_type": "code",
   "execution_count": 25,
   "metadata": {},
   "outputs": [],
   "source": [
    "# Dependencies and Setup\n",
    "import matplotlib.pyplot as plt\n",
    "import pandas as pd\n",
    "import numpy as np\n",
    "import requests\n",
    "import gmaps\n",
    "import os\n",
    "import json\n",
    "# Import API key\n",
    "from api_keys import g_key"
   ]
  },
  {
   "cell_type": "markdown",
   "metadata": {},
   "source": [
    "### Store Part I results into DataFrame\n",
    "* Load the csv exported in Part I to a DataFrame"
   ]
  },
  {
   "cell_type": "code",
   "execution_count": 26,
   "metadata": {},
   "outputs": [
    {
     "data": {
      "text/html": [
       "<div>\n",
       "<style scoped>\n",
       "    .dataframe tbody tr th:only-of-type {\n",
       "        vertical-align: middle;\n",
       "    }\n",
       "\n",
       "    .dataframe tbody tr th {\n",
       "        vertical-align: top;\n",
       "    }\n",
       "\n",
       "    .dataframe thead th {\n",
       "        text-align: right;\n",
       "    }\n",
       "</style>\n",
       "<table border=\"1\" class=\"dataframe\">\n",
       "  <thead>\n",
       "    <tr style=\"text-align: right;\">\n",
       "      <th></th>\n",
       "      <th>City</th>\n",
       "      <th>City ID</th>\n",
       "      <th>Lat</th>\n",
       "      <th>Lng</th>\n",
       "      <th>Max Temp</th>\n",
       "      <th>Humidity</th>\n",
       "      <th>Cloudiness</th>\n",
       "      <th>Wind speed</th>\n",
       "      <th>Country</th>\n",
       "      <th>Date</th>\n",
       "    </tr>\n",
       "  </thead>\n",
       "  <tbody>\n",
       "    <tr>\n",
       "      <th>0</th>\n",
       "      <td>hobart</td>\n",
       "      <td>2163355</td>\n",
       "      <td>-42.8794</td>\n",
       "      <td>147.3294</td>\n",
       "      <td>64.99</td>\n",
       "      <td>72</td>\n",
       "      <td>75</td>\n",
       "      <td>12.66</td>\n",
       "      <td>AU</td>\n",
       "      <td>10/01/2021</td>\n",
       "    </tr>\n",
       "    <tr>\n",
       "      <th>1</th>\n",
       "      <td>ushuaia</td>\n",
       "      <td>3833367</td>\n",
       "      <td>-54.8000</td>\n",
       "      <td>-68.3000</td>\n",
       "      <td>44.60</td>\n",
       "      <td>87</td>\n",
       "      <td>75</td>\n",
       "      <td>4.61</td>\n",
       "      <td>AR</td>\n",
       "      <td>10/01/2021</td>\n",
       "    </tr>\n",
       "    <tr>\n",
       "      <th>2</th>\n",
       "      <td>effingham</td>\n",
       "      <td>4193042</td>\n",
       "      <td>32.3669</td>\n",
       "      <td>-81.3332</td>\n",
       "      <td>35.60</td>\n",
       "      <td>80</td>\n",
       "      <td>1</td>\n",
       "      <td>4.61</td>\n",
       "      <td>US</td>\n",
       "      <td>10/01/2021</td>\n",
       "    </tr>\n",
       "    <tr>\n",
       "      <th>3</th>\n",
       "      <td>dano</td>\n",
       "      <td>2361586</td>\n",
       "      <td>11.1500</td>\n",
       "      <td>-3.0667</td>\n",
       "      <td>84.51</td>\n",
       "      <td>15</td>\n",
       "      <td>0</td>\n",
       "      <td>4.90</td>\n",
       "      <td>BF</td>\n",
       "      <td>10/01/2021</td>\n",
       "    </tr>\n",
       "    <tr>\n",
       "      <th>4</th>\n",
       "      <td>mocuba</td>\n",
       "      <td>1024312</td>\n",
       "      <td>-16.8392</td>\n",
       "      <td>36.9856</td>\n",
       "      <td>100.45</td>\n",
       "      <td>41</td>\n",
       "      <td>100</td>\n",
       "      <td>1.72</td>\n",
       "      <td>MZ</td>\n",
       "      <td>10/01/2021</td>\n",
       "    </tr>\n",
       "  </tbody>\n",
       "</table>\n",
       "</div>"
      ],
      "text/plain": [
       "        City  City ID      Lat       Lng  Max Temp  Humidity  Cloudiness  \\\n",
       "0     hobart  2163355 -42.8794  147.3294     64.99        72          75   \n",
       "1    ushuaia  3833367 -54.8000  -68.3000     44.60        87          75   \n",
       "2  effingham  4193042  32.3669  -81.3332     35.60        80           1   \n",
       "3       dano  2361586  11.1500   -3.0667     84.51        15           0   \n",
       "4     mocuba  1024312 -16.8392   36.9856    100.45        41         100   \n",
       "\n",
       "   Wind speed Country        Date  \n",
       "0       12.66      AU  10/01/2021  \n",
       "1        4.61      AR  10/01/2021  \n",
       "2        4.61      US  10/01/2021  \n",
       "3        4.90      BF  10/01/2021  \n",
       "4        1.72      MZ  10/01/2021  "
      ]
     },
     "execution_count": 26,
     "metadata": {},
     "output_type": "execute_result"
    }
   ],
   "source": [
    "# The path to our CSV file\n",
    "file = \"../output_data/weather_output.csv\"\n",
    "\n",
    "# Read our data into pandas\n",
    "df = pd.read_csv(file)\n",
    "\n",
    "df.rename(columns={'City Name': 'City', 'Lon': 'Lng'}, inplace=True)\n",
    "df.head()"
   ]
  },
  {
   "cell_type": "markdown",
   "metadata": {},
   "source": [
    "### Humidity Heatmap\n",
    "* Configure gmaps.\n",
    "* Use the Lat and Lng as locations and Humidity as the weight.\n",
    "* Add Heatmap layer to map."
   ]
  },
  {
   "cell_type": "code",
   "execution_count": 27,
   "metadata": {},
   "outputs": [],
   "source": [
    "# Google developer API key\n",
    "from api_keys import g_key\n",
    "\n",
    "# Configure gmaps\n",
    "gmaps.configure(api_key=g_key)\n"
   ]
  },
  {
   "cell_type": "code",
   "execution_count": 28,
   "metadata": {},
   "outputs": [],
   "source": [
    "# Store latitude and longitude in locations\n",
    "locations = df[[\"Lat\", \"Lng\"]]\n",
    "\n",
    "# convert to float\n",
    "rating = df[\"Humidity\"].astype(float)"
   ]
  },
  {
   "cell_type": "code",
   "execution_count": 29,
   "metadata": {
    "scrolled": true
   },
   "outputs": [
    {
     "data": {
      "application/vnd.jupyter.widget-view+json": {
       "model_id": "f4eee62300034e32b4b953656ea00c1d",
       "version_major": 2,
       "version_minor": 0
      },
      "text/plain": [
       "Figure(layout=FigureLayout(height='420px'))"
      ]
     },
     "metadata": {},
     "output_type": "display_data"
    }
   ],
   "source": [
    "# Plot Heatmap\n",
    "fig = gmaps.figure()\n",
    "fig = gmaps.figure(layout={'padding': '3px','border': '1px solid black'}, )\n",
    "fig = gmaps.figure(center=(-30.0, 130.0), zoom_level=3)\n",
    "# Create heat layer\n",
    "heat_layer = gmaps.heatmap_layer(locations, weights=rating, \n",
    "                                 dissipating=False, max_intensity=10, opacity=0.5,\n",
    "                                 point_radius=1)\n",
    "\n",
    "\n",
    "# Add layer\n",
    "fig.add_layer(heat_layer)\n",
    "\n",
    "\n",
    "# Display figure\n",
    "fig"
   ]
  },
  {
   "cell_type": "markdown",
   "metadata": {},
   "source": [
    "### Create new DataFrame fitting weather criteria\n",
    "* Narrow down the cities to fit weather conditions.\n",
    "* Drop any rows will null values."
   ]
  },
  {
   "cell_type": "code",
   "execution_count": 32,
   "metadata": {},
   "outputs": [
    {
     "data": {
      "text/html": [
       "<div>\n",
       "<style scoped>\n",
       "    .dataframe tbody tr th:only-of-type {\n",
       "        vertical-align: middle;\n",
       "    }\n",
       "\n",
       "    .dataframe tbody tr th {\n",
       "        vertical-align: top;\n",
       "    }\n",
       "\n",
       "    .dataframe thead th {\n",
       "        text-align: right;\n",
       "    }\n",
       "</style>\n",
       "<table border=\"1\" class=\"dataframe\">\n",
       "  <thead>\n",
       "    <tr style=\"text-align: right;\">\n",
       "      <th></th>\n",
       "      <th>City</th>\n",
       "      <th>City ID</th>\n",
       "      <th>Lat</th>\n",
       "      <th>Lng</th>\n",
       "      <th>Max Temp</th>\n",
       "      <th>Humidity</th>\n",
       "      <th>Cloudiness</th>\n",
       "      <th>Wind speed</th>\n",
       "      <th>Country</th>\n",
       "      <th>Date</th>\n",
       "    </tr>\n",
       "  </thead>\n",
       "  <tbody>\n",
       "    <tr>\n",
       "      <th>3</th>\n",
       "      <td>dano</td>\n",
       "      <td>2361586</td>\n",
       "      <td>11.1500</td>\n",
       "      <td>-3.0667</td>\n",
       "      <td>84.51</td>\n",
       "      <td>15</td>\n",
       "      <td>0</td>\n",
       "      <td>4.90</td>\n",
       "      <td>BF</td>\n",
       "      <td>10/01/2021</td>\n",
       "    </tr>\n",
       "    <tr>\n",
       "      <th>26</th>\n",
       "      <td>xai-xai</td>\n",
       "      <td>1024552</td>\n",
       "      <td>-25.0519</td>\n",
       "      <td>33.6442</td>\n",
       "      <td>87.82</td>\n",
       "      <td>49</td>\n",
       "      <td>0</td>\n",
       "      <td>5.82</td>\n",
       "      <td>MZ</td>\n",
       "      <td>10/01/2021</td>\n",
       "    </tr>\n",
       "    <tr>\n",
       "      <th>37</th>\n",
       "      <td>teahupoo</td>\n",
       "      <td>4033543</td>\n",
       "      <td>-17.8333</td>\n",
       "      <td>-149.2667</td>\n",
       "      <td>78.80</td>\n",
       "      <td>69</td>\n",
       "      <td>20</td>\n",
       "      <td>3.44</td>\n",
       "      <td>PF</td>\n",
       "      <td>10/01/2021</td>\n",
       "    </tr>\n",
       "    <tr>\n",
       "      <th>73</th>\n",
       "      <td>busselton</td>\n",
       "      <td>2075265</td>\n",
       "      <td>-33.6500</td>\n",
       "      <td>115.3333</td>\n",
       "      <td>72.00</td>\n",
       "      <td>61</td>\n",
       "      <td>0</td>\n",
       "      <td>5.99</td>\n",
       "      <td>AU</td>\n",
       "      <td>10/01/2021</td>\n",
       "    </tr>\n",
       "    <tr>\n",
       "      <th>98</th>\n",
       "      <td>palauig</td>\n",
       "      <td>1696188</td>\n",
       "      <td>15.4350</td>\n",
       "      <td>119.9045</td>\n",
       "      <td>79.59</td>\n",
       "      <td>63</td>\n",
       "      <td>0</td>\n",
       "      <td>4.94</td>\n",
       "      <td>PH</td>\n",
       "      <td>10/01/2021</td>\n",
       "    </tr>\n",
       "  </tbody>\n",
       "</table>\n",
       "</div>"
      ],
      "text/plain": [
       "         City  City ID      Lat       Lng  Max Temp  Humidity  Cloudiness  \\\n",
       "3        dano  2361586  11.1500   -3.0667     84.51        15           0   \n",
       "26    xai-xai  1024552 -25.0519   33.6442     87.82        49           0   \n",
       "37   teahupoo  4033543 -17.8333 -149.2667     78.80        69          20   \n",
       "73  busselton  2075265 -33.6500  115.3333     72.00        61           0   \n",
       "98    palauig  1696188  15.4350  119.9045     79.59        63           0   \n",
       "\n",
       "    Wind speed Country        Date  \n",
       "3         4.90      BF  10/01/2021  \n",
       "26        5.82      MZ  10/01/2021  \n",
       "37        3.44      PF  10/01/2021  \n",
       "73        5.99      AU  10/01/2021  \n",
       "98        4.94      PH  10/01/2021  "
      ]
     },
     "execution_count": 32,
     "metadata": {},
     "output_type": "execute_result"
    }
   ],
   "source": [
    "# Create new DataFrame with my desired weather conditions\n",
    "\n",
    "## Drop any rows will null values(not meeting all three conditions).\n",
    "\n",
    "temp_df=df.loc[(df['Max Temp']>=70)&(df['Max Temp']<=91)]\n",
    "wind_df=temp_df.loc[(temp_df['Wind speed']<=10)]\n",
    "humid_df=wind_df.loc[(wind_df['Humidity']<70)]\n",
    "ideal_df=humid_df.loc[(humid_df['Cloudiness']<30)]\n",
    "ideal_df.head()\n"
   ]
  },
  {
   "cell_type": "code",
   "execution_count": 34,
   "metadata": {},
   "outputs": [
    {
     "data": {
      "application/vnd.jupyter.widget-view+json": {
       "model_id": "df0fa6b5d6df47f8971982bfe1067510",
       "version_major": 2,
       "version_minor": 0
      },
      "text/plain": [
       "Figure(layout=FigureLayout(height='420px'))"
      ]
     },
     "metadata": {},
     "output_type": "display_data"
    }
   ],
   "source": [
    "## How does Map compare with only ideal locations - so does this look right?\n",
    "# Store latitude and longitude in locations\n",
    "locations = ideal_df[[\"Lat\", \"Lng\"]]\n",
    "\n",
    "# convert to float\n",
    "rating = ideal_df[\"Humidity\"].astype(float)\n",
    "# Plot Heatmap\n",
    "fig = gmaps.figure()\n",
    "fig = gmaps.figure(layout={'padding': '3px','border': '1px solid black'}, )\n",
    "fig = gmaps.figure(center=(-30.0, 130.0), zoom_level=3)\n",
    "# Create heat layer\n",
    "heat_layer = gmaps.heatmap_layer(locations, weights=rating, \n",
    "                                 dissipating=False, max_intensity=10, opacity=0.5,\n",
    "                                 point_radius=1)\n",
    "\n",
    "\n",
    "# Add layer\n",
    "fig.add_layer(heat_layer)\n",
    "\n",
    "\n",
    "# Display figure\n",
    "fig"
   ]
  },
  {
   "cell_type": "markdown",
   "metadata": {},
   "source": [
    "### Hotel Map\n",
    "* Store into variable named `hotel_df`.\n",
    "* Add a \"Hotel Name\" column to the DataFrame.\n",
    "* Set parameters to search for hotels with 5000 meters.\n",
    "* Hit the Google Places API for each city's coordinates.\n",
    "* Store the first Hotel result into the DataFrame.\n",
    "* Plot markers on top of the heatmap."
   ]
  },
  {
   "cell_type": "code",
   "execution_count": 40,
   "metadata": {},
   "outputs": [
    {
     "data": {
      "text/html": [
       "<div>\n",
       "<style scoped>\n",
       "    .dataframe tbody tr th:only-of-type {\n",
       "        vertical-align: middle;\n",
       "    }\n",
       "\n",
       "    .dataframe tbody tr th {\n",
       "        vertical-align: top;\n",
       "    }\n",
       "\n",
       "    .dataframe thead th {\n",
       "        text-align: right;\n",
       "    }\n",
       "</style>\n",
       "<table border=\"1\" class=\"dataframe\">\n",
       "  <thead>\n",
       "    <tr style=\"text-align: right;\">\n",
       "      <th></th>\n",
       "      <th>City</th>\n",
       "      <th>City ID</th>\n",
       "      <th>Lat</th>\n",
       "      <th>Lng</th>\n",
       "      <th>Max Temp</th>\n",
       "      <th>Humidity</th>\n",
       "      <th>Cloudiness</th>\n",
       "      <th>Wind speed</th>\n",
       "      <th>Country</th>\n",
       "      <th>Date</th>\n",
       "      <th>Hotel Name</th>\n",
       "    </tr>\n",
       "  </thead>\n",
       "  <tbody>\n",
       "    <tr>\n",
       "      <th>0</th>\n",
       "      <td>dano</td>\n",
       "      <td>2361586</td>\n",
       "      <td>11.1500</td>\n",
       "      <td>-3.0667</td>\n",
       "      <td>84.51</td>\n",
       "      <td>15</td>\n",
       "      <td>0</td>\n",
       "      <td>4.90</td>\n",
       "      <td>BF</td>\n",
       "      <td>10/01/2021</td>\n",
       "      <td></td>\n",
       "    </tr>\n",
       "    <tr>\n",
       "      <th>1</th>\n",
       "      <td>xai-xai</td>\n",
       "      <td>1024552</td>\n",
       "      <td>-25.0519</td>\n",
       "      <td>33.6442</td>\n",
       "      <td>87.82</td>\n",
       "      <td>49</td>\n",
       "      <td>0</td>\n",
       "      <td>5.82</td>\n",
       "      <td>MZ</td>\n",
       "      <td>10/01/2021</td>\n",
       "      <td></td>\n",
       "    </tr>\n",
       "    <tr>\n",
       "      <th>2</th>\n",
       "      <td>teahupoo</td>\n",
       "      <td>4033543</td>\n",
       "      <td>-17.8333</td>\n",
       "      <td>-149.2667</td>\n",
       "      <td>78.80</td>\n",
       "      <td>69</td>\n",
       "      <td>20</td>\n",
       "      <td>3.44</td>\n",
       "      <td>PF</td>\n",
       "      <td>10/01/2021</td>\n",
       "      <td></td>\n",
       "    </tr>\n",
       "    <tr>\n",
       "      <th>3</th>\n",
       "      <td>busselton</td>\n",
       "      <td>2075265</td>\n",
       "      <td>-33.6500</td>\n",
       "      <td>115.3333</td>\n",
       "      <td>72.00</td>\n",
       "      <td>61</td>\n",
       "      <td>0</td>\n",
       "      <td>5.99</td>\n",
       "      <td>AU</td>\n",
       "      <td>10/01/2021</td>\n",
       "      <td></td>\n",
       "    </tr>\n",
       "    <tr>\n",
       "      <th>4</th>\n",
       "      <td>palauig</td>\n",
       "      <td>1696188</td>\n",
       "      <td>15.4350</td>\n",
       "      <td>119.9045</td>\n",
       "      <td>79.59</td>\n",
       "      <td>63</td>\n",
       "      <td>0</td>\n",
       "      <td>4.94</td>\n",
       "      <td>PH</td>\n",
       "      <td>10/01/2021</td>\n",
       "      <td></td>\n",
       "    </tr>\n",
       "  </tbody>\n",
       "</table>\n",
       "</div>"
      ],
      "text/plain": [
       "        City  City ID      Lat       Lng  Max Temp  Humidity  Cloudiness  \\\n",
       "0       dano  2361586  11.1500   -3.0667     84.51        15           0   \n",
       "1    xai-xai  1024552 -25.0519   33.6442     87.82        49           0   \n",
       "2   teahupoo  4033543 -17.8333 -149.2667     78.80        69          20   \n",
       "3  busselton  2075265 -33.6500  115.3333     72.00        61           0   \n",
       "4    palauig  1696188  15.4350  119.9045     79.59        63           0   \n",
       "\n",
       "   Wind speed Country        Date Hotel Name  \n",
       "0        4.90      BF  10/01/2021             \n",
       "1        5.82      MZ  10/01/2021             \n",
       "2        3.44      PF  10/01/2021             \n",
       "3        5.99      AU  10/01/2021             \n",
       "4        4.94      PH  10/01/2021             "
      ]
     },
     "execution_count": 40,
     "metadata": {},
     "output_type": "execute_result"
    }
   ],
   "source": [
    "hotel_df = ideal_df.reset_index(drop=True)\n",
    "hotel_df[\"Hotel Name\"] = \"\"\n",
    "hotel_df.head()"
   ]
  },
  {
   "cell_type": "code",
   "execution_count": 41,
   "metadata": {},
   "outputs": [
    {
     "data": {
      "text/plain": [
       "pandas.core.frame.DataFrame"
      ]
     },
     "execution_count": 41,
     "metadata": {},
     "output_type": "execute_result"
    }
   ],
   "source": [
    "hotel=[]\n",
    "# params dictionary to update each iteration\n",
    "params = {\n",
    "    \"radius\": 5000,\n",
    "    \"types\": \"lodging\",\n",
    "    \"keyword\": \"hotels\",\n",
    "    \"key\": g_key\n",
    "}\n",
    "\n",
    "# read each line of the DF and use lat lon to find hotels\n",
    "for index, row in hotel_df.iterrows():\n",
    "    \n",
    "    # get lat, lng \n",
    "    lat = row[\"Lat\"]\n",
    "    lng = row[\"Lng\"]\n",
    "    \n",
    "    # change location each iteration while leaving original params in place\n",
    "    params[\"location\"] = f\"{lat},{lng}\"\n",
    "    \n",
    "    # Use the search term: \"Hotels\" and our lat/lng\n",
    "    base_url = \"https://maps.googleapis.com/maps/api/place/nearbysearch/json\"\n",
    "    \n",
    "    # make request and print url\n",
    "    hotel_name = requests.get(base_url, params=params)\n",
    "    \n",
    "    # convert to json\n",
    "    hotel_name = hotel_name.json()\n",
    "##    hotel.append(hotel_name)\n",
    "##    print(json.dumps(hotel_name, indent=4, sort_keys=True))\n",
    "\n",
    "    try:\n",
    "        hotel_df.loc[index, \"Hotel Name\"] = hotel_name[\"results\"][0][\"name\"]\n",
    "    except (KeyError, IndexError):\n",
    "        pass\n",
    "type(hotel_df)"
   ]
  },
  {
   "cell_type": "code",
   "execution_count": 42,
   "metadata": {},
   "outputs": [
    {
     "data": {
      "text/plain": [
       "pandas.core.frame.DataFrame"
      ]
     },
     "execution_count": 42,
     "metadata": {},
     "output_type": "execute_result"
    }
   ],
   "source": [
    "type(hotel_df)\n",
    "## just checking the type again, as the next call \n",
    "## (which is supplied in this excerise) sometimes produces an error, that suggests it might be a list\n",
    "## but not according to this"
   ]
  },
  {
   "cell_type": "code",
   "execution_count": 43,
   "metadata": {},
   "outputs": [],
   "source": [
    "# NOTE: Do not change any of the code in this cell\n",
    "\n",
    "# Using the template add the hotel marks to the heatmap\n",
    "info_box_template = \"\"\"\n",
    "<dl>\n",
    "<dt>Name</dt><dd>{Hotel Name}</dd>\n",
    "<dt>City</dt><dd>{City}</dd>\n",
    "<dt>Country</dt><dd>{Country}</dd>\n",
    "</dl>\n",
    "\"\"\"\n",
    "# Store the DataFrame Row\n",
    "# NOTE: be sure to update with your DataFrame name\n",
    "hotel_info = [info_box_template.format(**row) for index, row in hotel_df.iterrows()]\n",
    "locations = hotel_df[[\"Lat\", \"Lng\"]]"
   ]
  },
  {
   "cell_type": "code",
   "execution_count": 46,
   "metadata": {},
   "outputs": [
    {
     "data": {
      "application/vnd.jupyter.widget-view+json": {
       "model_id": "888487a3d1244a5ea4d8d688a11ee182",
       "version_major": 2,
       "version_minor": 0
      },
      "text/plain": [
       "Figure(layout=FigureLayout(height='420px'))"
      ]
     },
     "metadata": {},
     "output_type": "display_data"
    }
   ],
   "source": [
    "# Add marker layer ontop of heat map\n",
    "\n",
    "locations = ideal_df[[\"Lat\", \"Lng\"]]\n",
    "\n",
    "# convert to float\n",
    "rating = ideal_df[\"Humidity\"].astype(float)\n",
    "# Plot Heatmap\n",
    "fig = gmaps.figure()\n",
    "fig = gmaps.figure(layout={'padding': '3px','border': '1px solid black'}, )\n",
    "fig = gmaps.figure(center=(-30.0, 130.0), zoom_level=3)\n",
    "\n",
    "# Create heat layer\n",
    "heat_layer = gmaps.heatmap_layer(locations, weights=rating, \n",
    "                                 dissipating=False, max_intensity=10, opacity=0.5,\n",
    "                                 point_radius=1)\n",
    "\n",
    "# Create hotel symbol layer\n",
    "hotel_layer = gmaps.marker_layer(\n",
    "    locations,info_box_content=[info_box_template.format(**row) for index, row in hotel_df.iterrows()]\n",
    ")\n",
    "\n",
    "\n",
    "# Add layer\n",
    "fig.add_layer(heat_layer)\n",
    "fig.add_layer(hotel_layer)\n",
    "# Display figure\n",
    "fig"
   ]
  },
  {
   "cell_type": "code",
   "execution_count": null,
   "metadata": {},
   "outputs": [],
   "source": []
  }
 ],
 "metadata": {
  "kernelspec": {
   "display_name": "Python 3",
   "language": "python",
   "name": "python3"
  },
  "language_info": {
   "codemirror_mode": {
    "name": "ipython",
    "version": 3
   },
   "file_extension": ".py",
   "mimetype": "text/x-python",
   "name": "python",
   "nbconvert_exporter": "python",
   "pygments_lexer": "ipython3",
   "version": "3.8.5"
  },
  "latex_envs": {
   "LaTeX_envs_menu_present": true,
   "autoclose": false,
   "autocomplete": true,
   "bibliofile": "biblio.bib",
   "cite_by": "apalike",
   "current_citInitial": 1,
   "eqLabelWithNumbers": true,
   "eqNumInitial": 1,
   "hotkeys": {
    "equation": "Ctrl-E",
    "itemize": "Ctrl-I"
   },
   "labels_anchors": false,
   "latex_user_defs": false,
   "report_style_numbering": false,
   "user_envs_cfg": false
  }
 },
 "nbformat": 4,
 "nbformat_minor": 4
}
